{
 "cells": [
  {
   "cell_type": "markdown",
   "id": "e9e0df37",
   "metadata": {},
   "source": [
    "                                          # GOLD PRICE PREDICTION (Price 2008-2018) #\n"
   ]
  },
  {
   "cell_type": "code",
   "execution_count": 1,
   "id": "9d4fa71b",
   "metadata": {},
   "outputs": [],
   "source": [
    "import numpy as np                                     #for operations on array\n",
    "import matplotlib.pyplot as plt                        # for plotting data \n",
    "import sklearn as sk                                   # directly using inbuild formulaes\n",
    "import seaborn as sns                                  # heatmap representation\n",
    "from sklearn.ensemble import RandomForestRegressor      \n",
    "from sklearn import metrics\n",
    "import pandas as pd                                    # operations on dataframes\n",
    "from sklearn.model_selection import train_test_split"
   ]
  },
  {
   "cell_type": "code",
   "execution_count": 2,
   "id": "a5c0bbcd",
   "metadata": {
    "scrolled": false
   },
   "outputs": [],
   "source": [
    "# loading dataset\n",
    "gold_data=pd.read_csv('V:\\MY FILES\\Gold price ML\\gld_price_data.csv')"
   ]
  },
  {
   "cell_type": "code",
   "execution_count": 3,
   "id": "7bff33bc",
   "metadata": {},
   "outputs": [
    {
     "data": {
      "text/html": [
       "<div>\n",
       "<style scoped>\n",
       "    .dataframe tbody tr th:only-of-type {\n",
       "        vertical-align: middle;\n",
       "    }\n",
       "\n",
       "    .dataframe tbody tr th {\n",
       "        vertical-align: top;\n",
       "    }\n",
       "\n",
       "    .dataframe thead th {\n",
       "        text-align: right;\n",
       "    }\n",
       "</style>\n",
       "<table border=\"1\" class=\"dataframe\">\n",
       "  <thead>\n",
       "    <tr style=\"text-align: right;\">\n",
       "      <th></th>\n",
       "      <th>Date</th>\n",
       "      <th>SPX</th>\n",
       "      <th>GLD</th>\n",
       "      <th>USO</th>\n",
       "      <th>SLV</th>\n",
       "      <th>EUR/USD</th>\n",
       "    </tr>\n",
       "  </thead>\n",
       "  <tbody>\n",
       "    <tr>\n",
       "      <th>0</th>\n",
       "      <td>1/2/2008</td>\n",
       "      <td>1447.160034</td>\n",
       "      <td>84.860001</td>\n",
       "      <td>78.470001</td>\n",
       "      <td>15.180</td>\n",
       "      <td>1.471692</td>\n",
       "    </tr>\n",
       "    <tr>\n",
       "      <th>1</th>\n",
       "      <td>1/3/2008</td>\n",
       "      <td>1447.160034</td>\n",
       "      <td>85.570000</td>\n",
       "      <td>78.370003</td>\n",
       "      <td>15.285</td>\n",
       "      <td>1.474491</td>\n",
       "    </tr>\n",
       "    <tr>\n",
       "      <th>2</th>\n",
       "      <td>1/4/2008</td>\n",
       "      <td>1411.630005</td>\n",
       "      <td>85.129997</td>\n",
       "      <td>77.309998</td>\n",
       "      <td>15.167</td>\n",
       "      <td>1.475492</td>\n",
       "    </tr>\n",
       "    <tr>\n",
       "      <th>3</th>\n",
       "      <td>1/7/2008</td>\n",
       "      <td>1416.180054</td>\n",
       "      <td>84.769997</td>\n",
       "      <td>75.500000</td>\n",
       "      <td>15.053</td>\n",
       "      <td>1.468299</td>\n",
       "    </tr>\n",
       "    <tr>\n",
       "      <th>4</th>\n",
       "      <td>1/8/2008</td>\n",
       "      <td>1390.189941</td>\n",
       "      <td>86.779999</td>\n",
       "      <td>76.059998</td>\n",
       "      <td>15.590</td>\n",
       "      <td>1.557099</td>\n",
       "    </tr>\n",
       "  </tbody>\n",
       "</table>\n",
       "</div>"
      ],
      "text/plain": [
       "       Date          SPX        GLD        USO     SLV   EUR/USD\n",
       "0  1/2/2008  1447.160034  84.860001  78.470001  15.180  1.471692\n",
       "1  1/3/2008  1447.160034  85.570000  78.370003  15.285  1.474491\n",
       "2  1/4/2008  1411.630005  85.129997  77.309998  15.167  1.475492\n",
       "3  1/7/2008  1416.180054  84.769997  75.500000  15.053  1.468299\n",
       "4  1/8/2008  1390.189941  86.779999  76.059998  15.590  1.557099"
      ]
     },
     "execution_count": 3,
     "metadata": {},
     "output_type": "execute_result"
    }
   ],
   "source": [
    "# printing first 5 & last five rows in dataset respectively\n",
    "gold_data.head()"
   ]
  },
  {
   "cell_type": "code",
   "execution_count": 4,
   "id": "b2f81c9c",
   "metadata": {},
   "outputs": [
    {
     "data": {
      "text/html": [
       "<div>\n",
       "<style scoped>\n",
       "    .dataframe tbody tr th:only-of-type {\n",
       "        vertical-align: middle;\n",
       "    }\n",
       "\n",
       "    .dataframe tbody tr th {\n",
       "        vertical-align: top;\n",
       "    }\n",
       "\n",
       "    .dataframe thead th {\n",
       "        text-align: right;\n",
       "    }\n",
       "</style>\n",
       "<table border=\"1\" class=\"dataframe\">\n",
       "  <thead>\n",
       "    <tr style=\"text-align: right;\">\n",
       "      <th></th>\n",
       "      <th>Date</th>\n",
       "      <th>SPX</th>\n",
       "      <th>GLD</th>\n",
       "      <th>USO</th>\n",
       "      <th>SLV</th>\n",
       "      <th>EUR/USD</th>\n",
       "    </tr>\n",
       "  </thead>\n",
       "  <tbody>\n",
       "    <tr>\n",
       "      <th>2285</th>\n",
       "      <td>5/8/2018</td>\n",
       "      <td>2671.919922</td>\n",
       "      <td>124.589996</td>\n",
       "      <td>14.0600</td>\n",
       "      <td>15.5100</td>\n",
       "      <td>1.186789</td>\n",
       "    </tr>\n",
       "    <tr>\n",
       "      <th>2286</th>\n",
       "      <td>5/9/2018</td>\n",
       "      <td>2697.790039</td>\n",
       "      <td>124.330002</td>\n",
       "      <td>14.3700</td>\n",
       "      <td>15.5300</td>\n",
       "      <td>1.184722</td>\n",
       "    </tr>\n",
       "    <tr>\n",
       "      <th>2287</th>\n",
       "      <td>5/10/2018</td>\n",
       "      <td>2723.070068</td>\n",
       "      <td>125.180000</td>\n",
       "      <td>14.4100</td>\n",
       "      <td>15.7400</td>\n",
       "      <td>1.191753</td>\n",
       "    </tr>\n",
       "    <tr>\n",
       "      <th>2288</th>\n",
       "      <td>5/14/2018</td>\n",
       "      <td>2730.129883</td>\n",
       "      <td>124.489998</td>\n",
       "      <td>14.3800</td>\n",
       "      <td>15.5600</td>\n",
       "      <td>1.193118</td>\n",
       "    </tr>\n",
       "    <tr>\n",
       "      <th>2289</th>\n",
       "      <td>5/16/2018</td>\n",
       "      <td>2725.780029</td>\n",
       "      <td>122.543800</td>\n",
       "      <td>14.4058</td>\n",
       "      <td>15.4542</td>\n",
       "      <td>1.182033</td>\n",
       "    </tr>\n",
       "  </tbody>\n",
       "</table>\n",
       "</div>"
      ],
      "text/plain": [
       "           Date          SPX         GLD      USO      SLV   EUR/USD\n",
       "2285   5/8/2018  2671.919922  124.589996  14.0600  15.5100  1.186789\n",
       "2286   5/9/2018  2697.790039  124.330002  14.3700  15.5300  1.184722\n",
       "2287  5/10/2018  2723.070068  125.180000  14.4100  15.7400  1.191753\n",
       "2288  5/14/2018  2730.129883  124.489998  14.3800  15.5600  1.193118\n",
       "2289  5/16/2018  2725.780029  122.543800  14.4058  15.4542  1.182033"
      ]
     },
     "execution_count": 4,
     "metadata": {},
     "output_type": "execute_result"
    }
   ],
   "source": [
    "gold_data.tail()   # printing last five rows in dataset  "
   ]
  },
  {
   "cell_type": "code",
   "execution_count": 5,
   "id": "5a8a9a54",
   "metadata": {},
   "outputs": [
    {
     "data": {
      "text/plain": [
       "(2290, 6)"
      ]
     },
     "execution_count": 5,
     "metadata": {},
     "output_type": "execute_result"
    }
   ],
   "source": [
    " gold_data.shape # get shape of data set\n",
    "    "
   ]
  },
  {
   "cell_type": "code",
   "execution_count": 6,
   "id": "d389b781",
   "metadata": {},
   "outputs": [
    {
     "name": "stdout",
     "output_type": "stream",
     "text": [
      "<class 'pandas.core.frame.DataFrame'>\n",
      "RangeIndex: 2290 entries, 0 to 2289\n",
      "Data columns (total 6 columns):\n",
      " #   Column   Non-Null Count  Dtype  \n",
      "---  ------   --------------  -----  \n",
      " 0   Date     2290 non-null   object \n",
      " 1   SPX      2290 non-null   float64\n",
      " 2   GLD      2290 non-null   float64\n",
      " 3   USO      2290 non-null   float64\n",
      " 4   SLV      2290 non-null   float64\n",
      " 5   EUR/USD  2290 non-null   float64\n",
      "dtypes: float64(5), object(1)\n",
      "memory usage: 107.5+ KB\n"
     ]
    }
   ],
   "source": [
    "gold_data.info()  # get basic infos"
   ]
  },
  {
   "cell_type": "code",
   "execution_count": 7,
   "id": "7a9aee8d",
   "metadata": {},
   "outputs": [
    {
     "data": {
      "text/plain": [
       "Date       0\n",
       "SPX        0\n",
       "GLD        0\n",
       "USO        0\n",
       "SLV        0\n",
       "EUR/USD    0\n",
       "dtype: int64"
      ]
     },
     "execution_count": 7,
     "metadata": {},
     "output_type": "execute_result"
    }
   ],
   "source": [
    "# get null values\n",
    "gold_data.isnull().sum()"
   ]
  },
  {
   "cell_type": "code",
   "execution_count": 8,
   "id": "51300334",
   "metadata": {},
   "outputs": [
    {
     "data": {
      "text/html": [
       "<div>\n",
       "<style scoped>\n",
       "    .dataframe tbody tr th:only-of-type {\n",
       "        vertical-align: middle;\n",
       "    }\n",
       "\n",
       "    .dataframe tbody tr th {\n",
       "        vertical-align: top;\n",
       "    }\n",
       "\n",
       "    .dataframe thead th {\n",
       "        text-align: right;\n",
       "    }\n",
       "</style>\n",
       "<table border=\"1\" class=\"dataframe\">\n",
       "  <thead>\n",
       "    <tr style=\"text-align: right;\">\n",
       "      <th></th>\n",
       "      <th>SPX</th>\n",
       "      <th>GLD</th>\n",
       "      <th>USO</th>\n",
       "      <th>SLV</th>\n",
       "      <th>EUR/USD</th>\n",
       "    </tr>\n",
       "  </thead>\n",
       "  <tbody>\n",
       "    <tr>\n",
       "      <th>count</th>\n",
       "      <td>2290.000000</td>\n",
       "      <td>2290.000000</td>\n",
       "      <td>2290.000000</td>\n",
       "      <td>2290.000000</td>\n",
       "      <td>2290.000000</td>\n",
       "    </tr>\n",
       "    <tr>\n",
       "      <th>mean</th>\n",
       "      <td>1654.315776</td>\n",
       "      <td>122.732875</td>\n",
       "      <td>31.842221</td>\n",
       "      <td>20.084997</td>\n",
       "      <td>1.283653</td>\n",
       "    </tr>\n",
       "    <tr>\n",
       "      <th>std</th>\n",
       "      <td>519.111540</td>\n",
       "      <td>23.283346</td>\n",
       "      <td>19.523517</td>\n",
       "      <td>7.092566</td>\n",
       "      <td>0.131547</td>\n",
       "    </tr>\n",
       "    <tr>\n",
       "      <th>min</th>\n",
       "      <td>676.530029</td>\n",
       "      <td>70.000000</td>\n",
       "      <td>7.960000</td>\n",
       "      <td>8.850000</td>\n",
       "      <td>1.039047</td>\n",
       "    </tr>\n",
       "    <tr>\n",
       "      <th>25%</th>\n",
       "      <td>1239.874969</td>\n",
       "      <td>109.725000</td>\n",
       "      <td>14.380000</td>\n",
       "      <td>15.570000</td>\n",
       "      <td>1.171313</td>\n",
       "    </tr>\n",
       "    <tr>\n",
       "      <th>50%</th>\n",
       "      <td>1551.434998</td>\n",
       "      <td>120.580002</td>\n",
       "      <td>33.869999</td>\n",
       "      <td>17.268500</td>\n",
       "      <td>1.303297</td>\n",
       "    </tr>\n",
       "    <tr>\n",
       "      <th>75%</th>\n",
       "      <td>2073.010070</td>\n",
       "      <td>132.840004</td>\n",
       "      <td>37.827501</td>\n",
       "      <td>22.882500</td>\n",
       "      <td>1.369971</td>\n",
       "    </tr>\n",
       "    <tr>\n",
       "      <th>max</th>\n",
       "      <td>2872.870117</td>\n",
       "      <td>184.589996</td>\n",
       "      <td>117.480003</td>\n",
       "      <td>47.259998</td>\n",
       "      <td>1.598798</td>\n",
       "    </tr>\n",
       "  </tbody>\n",
       "</table>\n",
       "</div>"
      ],
      "text/plain": [
       "               SPX          GLD          USO          SLV      EUR/USD\n",
       "count  2290.000000  2290.000000  2290.000000  2290.000000  2290.000000\n",
       "mean   1654.315776   122.732875    31.842221    20.084997     1.283653\n",
       "std     519.111540    23.283346    19.523517     7.092566     0.131547\n",
       "min     676.530029    70.000000     7.960000     8.850000     1.039047\n",
       "25%    1239.874969   109.725000    14.380000    15.570000     1.171313\n",
       "50%    1551.434998   120.580002    33.869999    17.268500     1.303297\n",
       "75%    2073.010070   132.840004    37.827501    22.882500     1.369971\n",
       "max    2872.870117   184.589996   117.480003    47.259998     1.598798"
      ]
     },
     "execution_count": 8,
     "metadata": {},
     "output_type": "execute_result"
    }
   ],
   "source": [
    "# get stats of data\n",
    "gold_data.describe()"
   ]
  },
  {
   "cell_type": "code",
   "execution_count": 9,
   "id": "36c0d48d",
   "metadata": {},
   "outputs": [
    {
     "data": {
      "text/plain": [
       "<AxesSubplot:>"
      ]
     },
     "execution_count": 9,
     "metadata": {},
     "output_type": "execute_result"
    },
    {
     "data": {
      "image/png": "[encoded data removed]",
      "text/plain": [
       "<Figure size 648x648 with 2 Axes>"
      ]
     },
     "metadata": {
      "needs_background": "light"
     },
     "output_type": "display_data"
    }
   ],
   "source": [
    "#correlation heatmap for GLD\n",
    "correlation=gold_data.corr() \n",
    "plt.figure(figsize=(9,9))\n",
    "sns.heatmap(correlation, cbar=True, square=True, fmt='.1f',annot=True, annot_kws={'size':9}, cmap='Blues')\n"
   ]
  },
  {
   "cell_type": "code",
   "execution_count": 10,
   "id": "7644bbfe",
   "metadata": {},
   "outputs": [
    {
     "name": "stdout",
     "output_type": "stream",
     "text": [
      "SPX        0.049345\n",
      "GLD        1.000000\n",
      "USO       -0.186360\n",
      "SLV        0.866632\n",
      "EUR/USD   -0.024375\n",
      "Name: GLD, dtype: float64\n"
     ]
    }
   ],
   "source": [
    "# correlation values for gold\n",
    "print(correlation['GLD'])"
   ]
  },
  {
   "cell_type": "code",
   "execution_count": 11,
   "id": "4695796e",
   "metadata": {},
   "outputs": [
    {
     "data": {
      "text/plain": [
       "<AxesSubplot:xlabel='GLD', ylabel='Count'>"
      ]
     },
     "execution_count": 11,
     "metadata": {},
     "output_type": "execute_result"
    },
    {
     "data": {
      "image/png": "[encoded data removed]",
      "text/plain": [
       "<Figure size 432x288 with 1 Axes>"
      ]
     },
     "metadata": {
      "needs_background": "light"
     },
     "output_type": "display_data"
    }
   ],
   "source": [
    "sns.histplot(gold_data['GLD'],color='pink')"
   ]
  },
  {
   "cell_type": "code",
   "execution_count": 12,
   "id": "505b8fc0",
   "metadata": {},
   "outputs": [
    {
     "name": "stdout",
     "output_type": "stream",
     "text": [
      "              SPX        USO      SLV   EUR/USD\n",
      "0     1447.160034  78.470001  15.1800  1.471692\n",
      "1     1447.160034  78.370003  15.2850  1.474491\n",
      "2     1411.630005  77.309998  15.1670  1.475492\n",
      "3     1416.180054  75.500000  15.0530  1.468299\n",
      "4     1390.189941  76.059998  15.5900  1.557099\n",
      "...           ...        ...      ...       ...\n",
      "2285  2671.919922  14.060000  15.5100  1.186789\n",
      "2286  2697.790039  14.370000  15.5300  1.184722\n",
      "2287  2723.070068  14.410000  15.7400  1.191753\n",
      "2288  2730.129883  14.380000  15.5600  1.193118\n",
      "2289  2725.780029  14.405800  15.4542  1.182033\n",
      "\n",
      "[2290 rows x 4 columns]\n",
      "0        84.860001\n",
      "1        85.570000\n",
      "2        85.129997\n",
      "3        84.769997\n",
      "4        86.779999\n",
      "           ...    \n",
      "2285    124.589996\n",
      "2286    124.330002\n",
      "2287    125.180000\n",
      "2288    124.489998\n",
      "2289    122.543800\n",
      "Name: GLD, Length: 2290, dtype: float64\n"
     ]
    }
   ],
   "source": [
    "#initialise values \n",
    "A=gold_data.drop([\"GLD\",\"Date\"],axis='columns')\n",
    "B=gold_data['GLD']\n",
    "print(A)\n",
    "print(B)"
   ]
  },
  {
   "cell_type": "code",
   "execution_count": 13,
   "id": "912d38f1",
   "metadata": {},
   "outputs": [],
   "source": [
    "A_train,A_test,B_train,B_test = train_test_split(A,B,test_size=0.2,random_state=2)\n"
   ]
  },
  {
   "cell_type": "code",
   "execution_count": 14,
   "id": "4fb28551",
   "metadata": {},
   "outputs": [
    {
     "data": {
      "text/plain": [
       "RandomForestRegressor()"
      ]
     },
     "execution_count": 14,
     "metadata": {},
     "output_type": "execute_result"
    }
   ],
   "source": [
    "# model training \n",
    "regressor= RandomForestRegressor(n_estimators=100)\n",
    "regressor.fit(A_train,B_train)"
   ]
  },
  {
   "cell_type": "code",
   "execution_count": 15,
   "id": "0ddaa006",
   "metadata": {},
   "outputs": [
    {
     "name": "stdout",
     "output_type": "stream",
     "text": [
      "[168.6791994   81.94219982 115.93479997 127.80430064 120.77470131\n",
      " 154.86809763 150.21049832 126.01700046 117.58289874 126.14410043\n",
      " 116.89200082 171.87660082 141.74239976 167.90819839 115.29080017\n",
      " 117.71620057 138.7195024  170.31780154 159.3764024  163.02379938\n",
      " 155.21940028 125.44809997 175.73789941 157.60830296 125.14360022\n",
      "  93.90809996  77.93870025 120.35630013 118.97329886 167.45639936\n",
      "  88.27510035 125.33219983  91.24180085 117.63880033 121.11479937\n",
      " 136.20100024 115.5321013  114.7712006  148.56289936 107.03450104\n",
      " 104.34880236  87.19489797 126.44610083 117.96959961 153.78139898\n",
      " 119.59680037 108.27420032 107.97139804  93.27350043 127.30269703\n",
      "  75.11670058 113.64019912 121.12810016 111.31799909 118.88129886\n",
      " 120.47859964 159.15039985 169.40700061 147.01159699  85.78319836\n",
      "  94.40480024  86.7691987   90.73039976 118.85870065 126.48610078\n",
      " 127.4973999  170.3624     122.28119951 117.50719894  98.69640039\n",
      " 168.20650164 143.23839848 132.53630254 121.3024024  120.97559947\n",
      " 119.74150064 114.5345018  118.28620044 106.84880112 127.9278003\n",
      " 113.61769965 107.67900018 116.83780066 119.57889847  89.08410054\n",
      "  88.26239868 146.49510206 127.30010003 113.17790042 110.34229814\n",
      " 108.30419906  77.24979898 169.25240155 113.944199   121.53339937\n",
      " 127.9681017  155.10549799  91.68899916 136.40000054 158.70620353\n",
      " 125.5072006  125.55920036 130.67710135 114.92830143 119.86610011\n",
      "  92.14129979 110.16569869 168.03729947 157.81159865 114.18089952\n",
      " 106.41500136  79.45219984 113.24860046 125.83380079 107.34299932\n",
      " 119.26800125 156.06220351 159.35579902 120.12430016 134.76390319\n",
      " 101.43769995 117.75289788 119.33440051 113.00460059 102.75989922\n",
      " 160.35849759  99.00460045 146.88469884 125.70710108 169.17679994\n",
      " 125.59619901 127.34059721 127.37870196 113.7094995  112.86130059\n",
      " 123.4979991  102.12169896  89.56589973 124.57619963 101.33179938\n",
      " 107.0128993  113.56580058 117.17840102  99.49709953 121.57370081\n",
      " 162.64239877  87.42239872 106.70639971 117.27910069 127.75870126\n",
      " 124.18010055  80.71709913 120.21100024 156.83029864  88.05389947\n",
      " 110.24169956 118.9335992  172.45709865 103.03819899 105.4074005\n",
      " 122.6825002  157.42899794  87.88849823  93.2164005  112.56060056\n",
      " 177.10929888 114.37539958 119.36510069  94.34490068 125.73590023\n",
      " 166.00130168 114.79060071 116.68700124  88.32509868 148.78680098\n",
      " 120.48049933  89.61039973 111.94769999 117.4050005  118.68620113\n",
      "  88.0408993   94.10209984 116.9699001  118.44660223 120.31860038\n",
      " 126.68239828 121.98129953 151.37130017 165.82180039 118.66239955\n",
      " 120.42290158 151.04480053 118.51309899 172.57189904 105.24479914\n",
      " 104.93920127 149.24680097 113.65190064 124.89130095 147.57649996\n",
      " 119.65410136 115.27310065 112.87189992 113.39870207 141.92310142\n",
      " 117.90069773 102.91970081 115.92060081 103.25290156  99.17360028\n",
      " 117.30100073  90.64160052  91.52740062 153.48389853 102.7858995\n",
      " 154.7158007  114.34730162 138.97200152  90.21199813 115.55659962\n",
      " 114.27799966 122.91080016 121.83850022 165.20450085  92.8330993\n",
      " 135.126201   121.24839968 120.60390066 104.52190025 143.5993026\n",
      " 121.80999944 116.59080065 113.58640074 127.03249762 122.88319941\n",
      " 125.79749916 121.14710053  86.92949891 132.12640195 143.98390215\n",
      "  92.67159956 156.2920997  158.82040302 126.41629926 165.68039922\n",
      " 109.02280006 109.83420072 103.49739843  94.25250119 127.69450281\n",
      " 107.21850076 158.91289987 121.66110062 131.87649939 130.75110143\n",
      " 160.57059949  90.15779834 175.13610113 127.57070065 126.70279887\n",
      "  86.25829918 124.56619985 150.42439704  89.79149988 106.83070027\n",
      " 109.00919987  83.94639867 136.15140008 155.25500198 139.35600331\n",
      "  74.31280018 152.73760116 126.01719999 126.80060014 127.55309895\n",
      " 108.47359932 156.51509963 114.64910155 116.93540161 125.54199959\n",
      " 154.11140172 121.16390008 156.39829882  92.93520071 125.56150147\n",
      " 125.48440019  87.92720034  92.07999933 126.31809926 128.43560345\n",
      " 113.00700033 117.53629733 120.79560017 127.04199798 119.62060083\n",
      " 136.24780061  94.18779968 119.90060052 112.87090088  94.40779955\n",
      " 108.99789952  87.08769922 108.99099912  89.76379984  92.36040059\n",
      " 131.53170334 162.61790002  89.39080023 119.65560085 133.43680164\n",
      " 124.07120027 128.24880202 101.88839833  89.14579859 131.61080054\n",
      " 120.08850013 108.32010021 167.30170079 115.23790029  86.66269884\n",
      " 118.88730051  91.08929958 161.88590034 116.40040047 121.46240003\n",
      " 160.23219832 120.07899937 112.89489937 108.5868988  126.80759978\n",
      "  76.52130012 102.98379965 127.84670275 121.7944994   92.52589984\n",
      " 132.13180089 118.29710122 115.7312996  154.53450263 159.73600038\n",
      " 110.0438994  154.34119834 119.34710073 160.04170057 118.33370046\n",
      " 157.21909967 115.13319958 116.4140003  150.76439871 114.72930086\n",
      " 125.72679845 165.65949996 117.80340021 125.03299933 153.2100035\n",
      " 153.50410274 131.94890051 114.80440054 121.29340238 125.16640062\n",
      "  89.73080035 123.07530001 155.06090151 111.69570036 106.63299995\n",
      " 161.80100136 118.47199996 165.54199962 133.85670124 115.00819963\n",
      " 153.04169929 168.54989973 114.52620013 113.84290137 158.00939835\n",
      "  85.58129844 127.13660021 127.92550028 128.97669996 124.40460048\n",
      " 124.05330069  90.77410058 153.41239959  97.02009984 136.93059958\n",
      "  89.08419922 107.62230006 115.12660064 112.84220071 124.11739931\n",
      "  91.4080983  125.46210137 162.39359815 119.9683992  164.7976014\n",
      " 126.76719801 112.27690004 127.55359941  94.93239954  90.94729947\n",
      " 103.21189909 120.89060002  83.15389967 126.3754002  160.30280421\n",
      " 117.21900052 118.33569967 119.67089984 122.63819954 120.13290129\n",
      " 121.47439983 118.18080031 107.05880016 148.55050061 126.1249989\n",
      " 115.78740067  73.78239997 127.76070059 153.76260045 122.11429983\n",
      " 125.62930057  88.76360014 103.25239836 124.60850061 120.19940046\n",
      "  73.40170071 151.31799973 120.91280037 104.57050015  86.37759735\n",
      " 115.0243992  172.18479832 119.90450009 159.30009768 113.31949954\n",
      " 120.91070037 118.53730115  95.98999988 118.69600017 125.89750049\n",
      " 118.56879972  96.19330089 153.9626017  122.05200014 147.4608003\n",
      " 159.420002   114.01240031 122.6050992  149.21439854 127.20710044\n",
      " 165.95250065 136.0281012  119.96629944 166.8583988  108.26499944\n",
      " 121.71289851 139.83790122 105.74569872]\n"
     ]
    }
   ],
   "source": [
    "# model eveluation\n",
    "test_data_prediction=regressor.predict(A_test)\n",
    "print(test_data_prediction)"
   ]
  },
  {
   "cell_type": "code",
   "execution_count": 16,
   "id": "5bda5945",
   "metadata": {},
   "outputs": [
    {
     "name": "stdout",
     "output_type": "stream",
     "text": [
      "squared error is = 0.9895927672893009\n"
     ]
    }
   ],
   "source": [
    "# squared error\n",
    "error_score=metrics.r2_score(B_test,test_data_prediction)\n",
    "print(\"squared error is =\",error_score)"
   ]
  },
  {
   "cell_type": "code",
   "execution_count": 17,
   "id": "25ab0fd8",
   "metadata": {},
   "outputs": [],
   "source": [
    "B_test=list(B_test)"
   ]
  },
  {
   "cell_type": "code",
   "execution_count": 27,
   "id": "a1c45d14",
   "metadata": {
    "scrolled": true
   },
   "outputs": [
    {
     "data": {
      "text/plain": [
       "<matplotlib.legend.Legend at 0x2869e5f86a0>"
      ]
     },
     "execution_count": 27,
     "metadata": {},
     "output_type": "execute_result"
    },
    {
     "data": {
      "image/png": "[encoded data removed]",
      "text/plain": [
       "<Figure size 720x288 with 1 Axes>"
      ]
     },
     "metadata": {
      "needs_background": "light"
     },
     "output_type": "display_data"
    }
   ],
   "source": [
    "#plotting final graph to compare real price vs predicted price\n",
    "plt.figure(figsize=(10,4))\n",
    "plt.plot(test_data_prediction, color='red',label='Predicted Value')\n",
    "plt.plot(B_test,color='yellow')\n",
    "# plt.plot(test_data_prediction,colour='red',label='Predicted Price')\n",
    "\n",
    "plt.xlabel('No.of price values')\n",
    "plt.ylabel('Gold Price')\n",
    "plt.title('Real Price vs Predicted Price')\n",
    "plt.legend(['Predicted','Actual'])"
   ]
  },
  {
   "cell_type": "code",
   "execution_count": null,
   "id": "b14e8853",
   "metadata": {},
   "outputs": [],
   "source": []
  }
 ],
 "metadata": {
  "kernelspec": {
   "display_name": "Python 3 (ipykernel)",
   "language": "python",
   "name": "python3"
  },
  "language_info": {
   "codemirror_mode": {
    "name": "ipython",
    "version": 3
   },
   "file_extension": ".py",
   "mimetype": "text/x-python",
   "name": "python",
   "nbconvert_exporter": "python",
   "pygments_lexer": "ipython3",
   "version": "3.9.12"
  }
 },
 "nbformat": 4,
 "nbformat_minor": 5
}
